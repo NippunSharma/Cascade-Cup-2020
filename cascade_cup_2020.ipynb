{
  "nbformat": 4,
  "nbformat_minor": 0,
  "metadata": {
    "colab": {
      "name": "cascade cup 2020",
      "provenance": [],
      "collapsed_sections": []
    },
    "kernelspec": {
      "name": "python3",
      "display_name": "Python 3"
    }
  },
  "cells": [
    {
      "cell_type": "code",
      "metadata": {
        "colab": {
          "base_uri": "https://localhost:8080/"
        },
        "id": "UzK8e-JI2XJ5",
        "outputId": "cd5995aa-4f19-4063-bda9-f422f50ddff9"
      },
      "source": [
        "# Mounting my google drive on colab\n",
        "from google.colab import drive\n",
        "drive.mount('/content/mydrive')"
      ],
      "execution_count": null,
      "outputs": [
        {
          "output_type": "stream",
          "text": [
            "Mounted at /content/mydrive\n"
          ],
          "name": "stdout"
        }
      ]
    },
    {
      "cell_type": "code",
      "metadata": {
        "id": "LaWQBz4REkV_"
      },
      "source": [
        "import numpy as np\n",
        "import pandas as pd\n",
        "from sklearn.preprocessing import "
      ],
      "execution_count": null,
      "outputs": []
    },
    {
      "cell_type": "code",
      "metadata": {
        "id": "ANP_dvZrEzMS"
      },
      "source": [
        "train_data = pd.read_csv(\"mydrive/MyDrive/Cascade Cup 2020/data/train_age_dataset.csv\")\n",
        "test_data = pd.read_csv(\"mydrive/MyDrive/Cascade Cup 2020/data/test_age_dataset.csv\")"
      ],
      "execution_count": null,
      "outputs": []
    },
    {
      "cell_type": "code",
      "metadata": {
        "id": "L46l-wOqHXk7"
      },
      "source": [
        "column_types = np.array([\"r\", \"r\", \"c\", \"c\", \"n\", \"n\", \"n\", \"n\", \"n\", \"n\", \"n\", \"n\", \"n\", \"n\", \"n\", \"n\", \"n\", \"n\", \"n\", \"n\", \"n\", \"n\", \"n\", \"n\", \"n\", \"n\", \"d\"])"
      ],
      "execution_count": 13,
      "outputs": []
    },
    {
      "cell_type": "code",
      "metadata": {
        "id": "oVuMHAGfO3Kh"
      },
      "source": [
        "column_dic = {\"r\": \"redundant\", \n",
        "              \"c\": \"categorical\",\n",
        "              \"n\": \"numeric\",\n",
        "              \"d\": \"dependant\"}"
      ],
      "execution_count": 10,
      "outputs": []
    },
    {
      "cell_type": "code",
      "metadata": {
        "colab": {
          "base_uri": "https://localhost:8080/"
        },
        "id": "S8QKMIhBQt00",
        "outputId": "7d35baf5-6c3e-43a4-d941-e3d17d43537e"
      },
      "source": [
        "# splitting data into X's and Y's and removing redundant features\n",
        "trainX = train_data.iloc[:, [x != \"r\" and x != \"d\" for x in column_types]]\n",
        "trainY = train_data.iloc[:, [x == \"d\" for x in column_types]]\n",
        "testX = test_data.iloc[:, [x != \"r\" and x != \"d\" for x in column_types[:-1]]]\n",
        "\n",
        "# creating a concatenated dataset for normalizing or standardization\n",
        "concat = pd.concat([trainX, testX], axis=0)\n",
        "trainX.shape, trainY.shape, testX.shape, concat.shape"
      ],
      "execution_count": 30,
      "outputs": [
        {
          "output_type": "execute_result",
          "data": {
            "text/plain": [
              "((488877, 24), (488877, 1), (54320, 24), (543197, 24))"
            ]
          },
          "metadata": {
            "tags": []
          },
          "execution_count": 30
        }
      ]
    },
    {
      "cell_type": "code",
      "metadata": {
        "id": "XVSsuHWLSvXJ"
      },
      "source": [
        ""
      ],
      "execution_count": null,
      "outputs": []
    }
  ]
}