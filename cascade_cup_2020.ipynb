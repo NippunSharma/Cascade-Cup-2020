{
  "nbformat": 4,
  "nbformat_minor": 0,
  "metadata": {
    "colab": {
      "name": "cascade cup 2020",
      "provenance": [],
      "collapsed_sections": []
    },
    "kernelspec": {
      "name": "python3",
      "display_name": "Python 3"
    }
  },
  "cells": [
    {
      "cell_type": "code",
      "metadata": {
        "colab": {
          "base_uri": "https://localhost:8080/"
        },
        "id": "UzK8e-JI2XJ5",
        "outputId": "cd5995aa-4f19-4063-bda9-f422f50ddff9"
      },
      "source": [
        "# Mounting my google drive on colab\n",
        "from google.colab import drive\n",
        "drive.mount('/content/mydrive')"
      ],
      "execution_count": null,
      "outputs": [
        {
          "output_type": "stream",
          "text": [
            "Mounted at /content/mydrive\n"
          ],
          "name": "stdout"
        }
      ]
    },
    {
      "cell_type": "code",
      "metadata": {
        "id": "LaWQBz4REkV_"
      },
      "source": [
        "import numpy as np\n",
        "import pandas as pd"
      ],
      "execution_count": 73,
      "outputs": []
    },
    {
      "cell_type": "code",
      "metadata": {
        "id": "ANP_dvZrEzMS"
      },
      "source": [
        "train_data = pd.read_csv(\"mydrive/MyDrive/Cascade Cup 2020/data/train_age_dataset.csv\")\n",
        "test_data = pd.read_csv(\"mydrive/MyDrive/Cascade Cup 2020/data/test_age_dataset.csv\")"
      ],
      "execution_count": 74,
      "outputs": []
    },
    {
      "cell_type": "code",
      "metadata": {
        "id": "L46l-wOqHXk7"
      },
      "source": [
        "column_types = np.array([\"r\", \"r\", \"c\", \"c\", \"n\", \"n\", \"n\", \"n\", \"n\", \"n\", \"n\", \"n\", \"n\", \"n\", \"n\", \"n\", \"n\", \"n\", \"n\", \"n\", \"n\", \"n\", \"n\", \"n\", \"n\", \"n\", \"d\"])"
      ],
      "execution_count": 75,
      "outputs": []
    },
    {
      "cell_type": "code",
      "metadata": {
        "id": "oVuMHAGfO3Kh"
      },
      "source": [
        "column_dic = {\"r\": \"redundant\", \n",
        "              \"c\": \"categorical\",\n",
        "              \"n\": \"numeric\",\n",
        "              \"d\": \"dependant\"}"
      ],
      "execution_count": 76,
      "outputs": []
    },
    {
      "cell_type": "code",
      "metadata": {
        "colab": {
          "base_uri": "https://localhost:8080/"
        },
        "id": "S8QKMIhBQt00",
        "outputId": "9d756984-fe3d-4a2e-c525-b3302cc2fe8d"
      },
      "source": [
        "# splitting data into X's and Y's and removing redundant features\n",
        "X = train_data.iloc[:, [x != \"r\" and x != \"d\" for x in column_types]]\n",
        "Y = train_data.iloc[:, [x == \"d\" for x in column_types]]\n",
        "testX = test_data.iloc[:, [x != \"r\" and x != \"d\" for x in column_types[:-1]]]\n",
        "req_cols = column_types[[x != \"r\" and x != \"d\" for x in column_types]]\n",
        "\n",
        "# creating a concatenated dataset for normalizing or standardization\n",
        "concat = pd.concat([X, testX], axis=0)\n",
        "X.shape, Y.shape, testX.shape, concat.shape, req_cols.shape"
      ],
      "execution_count": 77,
      "outputs": [
        {
          "output_type": "execute_result",
          "data": {
            "text/plain": [
              "((488877, 24), (488877, 1), (54320, 24), (543197, 24), (24,))"
            ]
          },
          "metadata": {
            "tags": []
          },
          "execution_count": 77
        }
      ]
    },
    {
      "cell_type": "code",
      "metadata": {
        "id": "XVSsuHWLSvXJ"
      },
      "source": [
        "# Creating a normalized version of data\n",
        "def normalize(con, train, test):\n",
        "    global req_cols\n",
        "\n",
        "    train_fin = train.copy()\n",
        "    test_fin = test.copy()\n",
        "\n",
        "    max = con.max()\n",
        "    min = con.min()\n",
        "\n",
        "    is_num = (req_cols == \"n\")\n",
        "\n",
        "    train_fin.loc[:, is_num] = (max[is_num] - train_fin.loc[:, is_num]) / (max[is_num] - min[is_num])\n",
        "    test_fin.loc[:, is_num] = (max[is_num] - test_fin.loc[:, is_num]) / (max[is_num] - min[is_num])\n",
        "\n",
        "    return train_fin, test_fin\n",
        "\n",
        "# Creating a standardized version of data\n",
        "def standardize(con, train, test):\n",
        "    global req_cols\n",
        "\n",
        "    train_fin = train.copy()\n",
        "    test_fin = test.copy()\n",
        "\n",
        "    mean = con.mean()\n",
        "    var = con.var(ddof=0)\n",
        "\n",
        "    is_num = (req_cols == \"n\")\n",
        "\n",
        "    train_fin.loc[:, is_num] = (train_fin.loc[:, is_num] - mean[is_num]) / (var[is_num]**0.5)\n",
        "    test_fin.loc[:, is_num] = (test_fin.loc[:, is_num] - mean[is_num]) / (var[is_num]**0.5)\n",
        "\n",
        "    return train_fin, test_fin"
      ],
      "execution_count": 78,
      "outputs": []
    },
    {
      "cell_type": "code",
      "metadata": {
        "id": "dG36E-RBU75E"
      },
      "source": [
        "X_norm, testX_norm = normalize(concat, X, testX)\n",
        "X_stand, testX_stand = standardize(concat, X, testX)"
      ],
      "execution_count": 80,
      "outputs": []
    },
    {
      "cell_type": "code",
      "metadata": {
        "id": "e6-SLD1vYMR_"
      },
      "source": [
        "# importing modules from sklearn\n",
        "from sklearn.model_selection import train_test_split\n",
        "from sklearn.metrics import f1_score\n",
        "from sklearn.ensemble import RandomForestClassifier"
      ],
      "execution_count": 72,
      "outputs": []
    },
    {
      "cell_type": "code",
      "metadata": {
        "colab": {
          "base_uri": "https://localhost:8080/"
        },
        "id": "s1KFjGczZ48V",
        "outputId": "f91117e6-3def-438f-d2c8-1d21b5bb9cc7"
      },
      "source": [
        "# first we will make models on raw / non processed data\n",
        "# first splitting into train and valid\n",
        "trainX, validX, trainY, validY = train_test_split(X, Y, test_size=0.1, stratify=Y)\n",
        "trainX.shape, validX.shape, trainY.shape, validY.shape"
      ],
      "execution_count": 81,
      "outputs": [
        {
          "output_type": "execute_result",
          "data": {
            "text/plain": [
              "((439989, 24), (48888, 24), (439989, 1), (48888, 1))"
            ]
          },
          "metadata": {
            "tags": []
          },
          "execution_count": 81
        }
      ]
    },
    {
      "cell_type": "code",
      "metadata": {
        "colab": {
          "base_uri": "https://localhost:8080/"
        },
        "id": "IIrxwRUXbx9O",
        "outputId": "52d86a95-179d-4f79-e927-c93bb48a6a79"
      },
      "source": [
        "# fitting a RandomForestClassifier()\n",
        "model = RandomForestClassifier()\n",
        "model.fit(trainX, np.ravel(trainY))"
      ],
      "execution_count": 83,
      "outputs": [
        {
          "output_type": "execute_result",
          "data": {
            "text/plain": [
              "RandomForestClassifier(bootstrap=True, ccp_alpha=0.0, class_weight=None,\n",
              "                       criterion='gini', max_depth=None, max_features='auto',\n",
              "                       max_leaf_nodes=None, max_samples=None,\n",
              "                       min_impurity_decrease=0.0, min_impurity_split=None,\n",
              "                       min_samples_leaf=1, min_samples_split=2,\n",
              "                       min_weight_fraction_leaf=0.0, n_estimators=100,\n",
              "                       n_jobs=None, oob_score=False, random_state=None,\n",
              "                       verbose=0, warm_start=False)"
            ]
          },
          "metadata": {
            "tags": []
          },
          "execution_count": 83
        }
      ]
    },
    {
      "cell_type": "code",
      "metadata": {
        "colab": {
          "base_uri": "https://localhost:8080/"
        },
        "id": "Xmf6qW4ycC94",
        "outputId": "a2df70e0-0154-4602-918d-aff6e58d3d8c"
      },
      "source": [
        "# f1 score for training data\n",
        "trainY_hat = model.predict(trainX)\n",
        "f1_score(trainY, trainY_hat, average=\"weighted\")"
      ],
      "execution_count": 86,
      "outputs": [
        {
          "output_type": "execute_result",
          "data": {
            "text/plain": [
              "1.0"
            ]
          },
          "metadata": {
            "tags": []
          },
          "execution_count": 86
        }
      ]
    },
    {
      "cell_type": "code",
      "metadata": {
        "colab": {
          "base_uri": "https://localhost:8080/"
        },
        "id": "lQmD_XvudRS2",
        "outputId": "716d5297-8ca9-4ae5-a8d3-00af7d218e34"
      },
      "source": [
        "# f1 score for validation data\n",
        "validY_hat = model.predict(validX)\n",
        "f1_score(validY, validY_hat, average=\"weighted\")"
      ],
      "execution_count": 87,
      "outputs": [
        {
          "output_type": "execute_result",
          "data": {
            "text/plain": [
              "0.7168830071135626"
            ]
          },
          "metadata": {
            "tags": []
          },
          "execution_count": 87
        }
      ]
    },
    {
      "cell_type": "code",
      "metadata": {
        "id": "kAAkGxz3dzI2"
      },
      "source": [
        "# now we will generate predictions for test data and export them\n",
        "sample = pd.read_csv(\"mydrive/MyDrive/Cascade Cup 2020/data/sample_submission.csv\")\n",
        "testY_hat = model.predict(testX)\n",
        "sample[:] = testY_hat.reshape(-1, 1)\n",
        "sample.to_csv(\"submission_1.csv\", index=False)"
      ],
      "execution_count": 100,
      "outputs": []
    },
    {
      "cell_type": "code",
      "metadata": {
        "id": "oEhcaqVIe0Rg"
      },
      "source": [
        ""
      ],
      "execution_count": null,
      "outputs": []
    }
  ]
}